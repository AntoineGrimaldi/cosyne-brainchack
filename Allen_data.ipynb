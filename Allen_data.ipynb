{
 "cells": [
  {
   "cell_type": "code",
   "execution_count": 1,
   "id": "e4a3b2df-7fc2-4b4d-a708-5219526593df",
   "metadata": {},
   "outputs": [],
   "source": [
    "import torch, os\n",
    "import numpy as np\n",
    "import matplotlib.pyplot as plt\n",
    "from tqdm import tqdm\n",
    "from sklearn.model_selection import train_test_split"
   ]
  },
  {
   "cell_type": "code",
   "execution_count": 2,
   "id": "f7fd0c39-ea00-42c6-94f7-a4a0778138a4",
   "metadata": {},
   "outputs": [
    {
     "name": "stdout",
     "output_type": "stream",
     "text": [
      "--2025-03-25 16:21:46--  https://github.com/bsotomayorg/Intro_HPC_Python/raw/refs/heads/main/datasets/AllenData/ii_spike_times.npy\n",
      "Résolution de github.com (github.com)… 140.82.114.3\n",
      "connecté. à github.com (github.com)|140.82.114.3|:443… \n",
      "302 FoundTTP transmise, en attente de la réponse… \n",
      "Emplacement : https://raw.githubusercontent.com/bsotomayorg/Intro_HPC_Python/refs/heads/main/datasets/AllenData/ii_spike_times.npy [suivant]\n",
      "--2025-03-25 16:21:46--  https://raw.githubusercontent.com/bsotomayorg/Intro_HPC_Python/refs/heads/main/datasets/AllenData/ii_spike_times.npy\n",
      "Résolution de raw.githubusercontent.com (raw.githubusercontent.com)… 185.199.111.133, 185.199.108.133, 185.199.110.133, ...\n",
      "connecté. à raw.githubusercontent.com (raw.githubusercontent.com)|185.199.111.133|:443… \n",
      "requête HTTP transmise, en attente de la réponse… 200 OK\n",
      "Taille : 3200128 (3,1M) [application/octet-stream]\n",
      "Enregistre : ‘ii_spike_times.npy.1’\n",
      "\n",
      "ii_spike_times.npy. 100%[===================>]   3,05M  14,4MB/s    ds 0,2s    \n",
      "\n",
      "2025-03-25 16:21:46 (14,4 MB/s) - ‘ii_spike_times.npy.1’ enregistré [3200128/3200128]\n",
      "\n",
      "--2025-03-25 16:21:46--  https://github.com/bsotomayorg/Intro_HPC_Python/raw/refs/heads/main/datasets/AllenData/spike_times.npy\n",
      "Résolution de github.com (github.com)… 140.82.114.3\n",
      "connecté. à github.com (github.com)|140.82.114.3|:443… \n",
      "302 FoundTTP transmise, en attente de la réponse… \n",
      "Emplacement : https://raw.githubusercontent.com/bsotomayorg/Intro_HPC_Python/refs/heads/main/datasets/AllenData/spike_times.npy [suivant]\n",
      "--2025-03-25 16:21:47--  https://raw.githubusercontent.com/bsotomayorg/Intro_HPC_Python/refs/heads/main/datasets/AllenData/spike_times.npy\n",
      "Résolution de raw.githubusercontent.com (raw.githubusercontent.com)… 185.199.109.133, 185.199.111.133, 185.199.108.133, ...\n",
      "Connexion à raw.githubusercontent.com (raw.githubusercontent.com)|185.199.109.133|:443… connecté.\n",
      "200 OKe HTTP transmise, en attente de la réponse… \n",
      "Taille : 1229208 (1,2M) [application/octet-stream]\n",
      "Enregistre : ‘spike_times.npy.1’\n",
      "\n",
      "spike_times.npy.1   100%[===================>]   1,17M  --.-KB/s    ds 0,1s    \n",
      "\n",
      "2025-03-25 16:21:47 (10,2 MB/s) - ‘spike_times.npy.1’ enregistré [1229208/1229208]\n",
      "\n",
      "--2025-03-25 16:21:47--  https://github.com/bsotomayorg/Intro_HPC_Python/raw/refs/heads/main/datasets/AllenData/stim_label.npy\n",
      "Résolution de github.com (github.com)… 140.82.114.3\n",
      "connecté. à github.com (github.com)|140.82.114.3|:443… \n",
      "requête HTTP transmise, en attente de la réponse… 302 Found\n",
      "Emplacement : https://raw.githubusercontent.com/bsotomayorg/Intro_HPC_Python/refs/heads/main/datasets/AllenData/stim_label.npy [suivant]\n",
      "--2025-03-25 16:21:47--  https://raw.githubusercontent.com/bsotomayorg/Intro_HPC_Python/refs/heads/main/datasets/AllenData/stim_label.npy\n",
      "Résolution de raw.githubusercontent.com (raw.githubusercontent.com)… 185.199.108.133, 185.199.109.133, 185.199.111.133, ...\n",
      "Connexion à raw.githubusercontent.com (raw.githubusercontent.com)|185.199.108.133|:443… connecté.\n",
      "200 OKe HTTP transmise, en attente de la réponse… \n",
      "Taille : 1728 (1,7K) [application/octet-stream]\n",
      "Enregistre : ‘stim_label.npy.1’\n",
      "\n",
      "stim_label.npy.1    100%[===================>]   1,69K  --.-KB/s    ds 0s      \n",
      "\n",
      "2025-03-25 16:21:47 (27,7 MB/s) - ‘stim_label.npy.1’ enregistré [1728/1728]\n",
      "\n"
     ]
    }
   ],
   "source": [
    "! wget https://github.com/bsotomayorg/Intro_HPC_Python/raw/refs/heads/main/datasets/AllenData/ii_spike_times.npy\n",
    "! wget https://github.com/bsotomayorg/Intro_HPC_Python/raw/refs/heads/main/datasets/AllenData/spike_times.npy\n",
    "! wget https://github.com/bsotomayorg/Intro_HPC_Python/raw/refs/heads/main/datasets/AllenData/stim_label.npy"
   ]
  },
  {
   "cell_type": "code",
   "execution_count": 3,
   "id": "b182730d-c915-40e6-8362-61319c979e15",
   "metadata": {},
   "outputs": [],
   "source": [
    "spike_times    = np.load(\"spike_times.npy\")\n",
    "ii_spike_times = np.load(\"ii_spike_times.npy\")\n",
    "stim_label     = np.load(\"stim_label.npy\")"
   ]
  },
  {
   "cell_type": "code",
   "execution_count": 4,
   "id": "8a811288-f6e4-4946-944c-700f6a6632af",
   "metadata": {},
   "outputs": [
    {
     "data": {
      "text/plain": [
       "(153635,)"
      ]
     },
     "execution_count": 4,
     "metadata": {},
     "output_type": "execute_result"
    }
   ],
   "source": [
    "spike_times.shape"
   ]
  },
  {
   "cell_type": "code",
   "execution_count": 5,
   "id": "b939e24b-16f3-4bd8-a478-90f46538e44f",
   "metadata": {},
   "outputs": [
    {
     "data": {
      "text/plain": [
       "(200, 1000, 2)"
      ]
     },
     "execution_count": 5,
     "metadata": {},
     "output_type": "execute_result"
    }
   ],
   "source": [
    "ii_spike_times.shape"
   ]
  },
  {
   "cell_type": "code",
   "execution_count": 18,
   "id": "2f8c1958-1b7f-4d6d-ba2e-113df20786b3",
   "metadata": {},
   "outputs": [
    {
     "data": {
      "text/plain": [
       "array([  0,   0,   0,   0,   0,   0,   0,   0,   0,   0,   0,   0,   0,\n",
       "         0,   0,   0,   0,   0,   0,   0,   0,   0,   0,   0,   0,   0,\n",
       "         0,   0,   0,   0,   0,   0,   0,   0,   0,   0,   0,   0,   0,\n",
       "         0,   0,   0,   0,   0,   0,   0,   0,   0,   0,   0,  45,  45,\n",
       "        45,  45,  45,  45,  45,  45,  45,  45,  45,  45,  45,  45,  45,\n",
       "        45,  45,  45,  45,  45,  45,  45,  45,  45,  45,  45,  45,  45,\n",
       "        45,  45,  45,  45,  45,  45,  45,  45,  45,  45,  45,  45,  45,\n",
       "        45,  45,  45,  45,  45,  45,  45,  45,  45,  90,  90,  90,  90,\n",
       "        90,  90,  90,  90,  90,  90,  90,  90,  90,  90,  90,  90,  90,\n",
       "        90,  90,  90,  90,  90,  90,  90,  90,  90,  90,  90,  90,  90,\n",
       "        90,  90,  90,  90,  90,  90,  90,  90,  90,  90,  90,  90,  90,\n",
       "        90,  90,  90,  90,  90,  90,  90, 135, 135, 135, 135, 135, 135,\n",
       "       135, 135, 135, 135, 135, 135, 135, 135, 135, 135, 135, 135, 135,\n",
       "       135, 135, 135, 135, 135, 135, 135, 135, 135, 135, 135, 135, 135,\n",
       "       135, 135, 135, 135, 135, 135, 135, 135, 135, 135, 135, 135, 135,\n",
       "       135, 135, 135, 135, 135])"
      ]
     },
     "execution_count": 18,
     "metadata": {},
     "output_type": "execute_result"
    }
   ],
   "source": [
    "stim_label"
   ]
  },
  {
   "cell_type": "code",
   "execution_count": 43,
   "id": "5a283bc9-ad0b-46b3-87c3-c9ea5f4020d7",
   "metadata": {},
   "outputs": [],
   "source": [
    "def get_binned_raster(spike_times, ii_spike_times, T, nbins=100):\n",
    "  # it assumes spike times are defined in [0, T]\n",
    "  # T: window lenght (in seconds)\n",
    "  M = ii_spike_times.shape[0] # is the total number of samples (recordings with different labels)\n",
    "  N = ii_spike_times.shape[1]\n",
    "  mat = np.zeros(shape=(M, N, nbins), dtype=float)\n",
    "  st_max = 0\n",
    "  for i_M in range(M):\n",
    "    for i_N in range(N):\n",
    "      st = spike_times[ii_spike_times[i_M,i_N,0]:ii_spike_times[i_M,i_N,1]].copy()\n",
    "      st = st*(nbins/T)\n",
    "      if st>st_max: st_max = st\n",
    "      mat[i_M, i_N, st.astype(int)] += 1\n",
    "      #mat[i_M, i_N, st.astype(int)] |= True\n",
    "  return mat"
   ]
  },
  {
   "cell_type": "code",
   "execution_count": 44,
   "id": "9d262121-18f8-45ba-8802-4d7127d0ce45",
   "metadata": {},
   "outputs": [
    {
     "data": {
      "text/plain": [
       "(200, 1000, 2)"
      ]
     },
     "execution_count": 44,
     "metadata": {},
     "output_type": "execute_result"
    }
   ],
   "source": [
    "ii_spike_times.shape"
   ]
  },
  {
   "cell_type": "code",
   "execution_count": 45,
   "id": "0d757d8c-f595-45b0-8ea6-8e0d3d98d608",
   "metadata": {},
   "outputs": [
    {
     "data": {
      "text/plain": [
       "array([1, 2])"
      ]
     },
     "execution_count": 45,
     "metadata": {},
     "output_type": "execute_result"
    }
   ],
   "source": [
    "ii_spike_times[0,2]"
   ]
  },
  {
   "cell_type": "code",
   "execution_count": 46,
   "id": "55fcf2dd-1d22-4361-acae-9a1ee57902cd",
   "metadata": {},
   "outputs": [
    {
     "data": {
      "text/plain": [
       "np.float64(1.556491042720154e-07)"
      ]
     },
     "execution_count": 46,
     "metadata": {},
     "output_type": "execute_result"
    }
   ],
   "source": [
    "spike_times.min()"
   ]
  },
  {
   "cell_type": "code",
   "execution_count": 58,
   "id": "3f23211b-ae68-4c6d-9a01-f48c808135fe",
   "metadata": {},
   "outputs": [],
   "source": [
    "data = get_binned_raster(spike_times, ii_spike_times[:,:,:], T=1,nbins=1000)"
   ]
  },
  {
   "cell_type": "code",
   "execution_count": 59,
   "id": "9aa54588-f4cb-4a20-a02c-3d0bd15ac47e",
   "metadata": {},
   "outputs": [
    {
     "data": {
      "text/plain": [
       "array([0., 1.])"
      ]
     },
     "execution_count": 59,
     "metadata": {},
     "output_type": "execute_result"
    }
   ],
   "source": [
    "np.unique(data)"
   ]
  },
  {
   "cell_type": "code",
   "execution_count": 62,
   "id": "6484a70f-2c85-4771-a0ec-619b461d86bd",
   "metadata": {},
   "outputs": [
    {
     "data": {
      "text/plain": [
       "<matplotlib.image.AxesImage at 0x794586d20830>"
      ]
     },
     "execution_count": 62,
     "metadata": {},
     "output_type": "execute_result"
    },
    {
     "data": {
      "image/png": "[encoded data removed]",
      "text/plain": [
       "<Figure size 640x480 with 1 Axes>"
      ]
     },
     "metadata": {},
     "output_type": "display_data"
    }
   ],
   "source": [
    "plt.imshow(data[3,100:200,:200])"
   ]
  },
  {
   "cell_type": "code",
   "execution_count": null,
   "id": "04445fdf-c54c-4ca2-a520-97de127ac83f",
   "metadata": {},
   "outputs": [],
   "source": []
  },
  {
   "cell_type": "code",
   "execution_count": null,
   "id": "61e58e51-4b95-4dc6-9d63-1306a73ad2e0",
   "metadata": {},
   "outputs": [],
   "source": []
  }
 ],
 "metadata": {
  "kernelspec": {
   "display_name": "Python 3 (ipykernel)",
   "language": "python",
   "name": "python3"
  },
  "language_info": {
   "codemirror_mode": {
    "name": "ipython",
    "version": 3
   },
   "file_extension": ".py",
   "mimetype": "text/x-python",
   "name": "python",
   "nbconvert_exporter": "python",
   "pygments_lexer": "ipython3",
   "version": "3.12.7"
  }
 },
 "nbformat": 4,
 "nbformat_minor": 5
}

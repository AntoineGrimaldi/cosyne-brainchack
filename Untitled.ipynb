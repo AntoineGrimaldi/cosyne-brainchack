{
 "cells": [
  {
   "cell_type": "code",
   "execution_count": 39,
   "id": "e0f161d7-c12c-485c-beb6-376367fb50a0",
   "metadata": {},
   "outputs": [],
   "source": [
    "import scipy.io \n",
    "import matplotlib.pyplot as plt\n",
    "\n",
    "mat = scipy.io.loadmat('RAT2_SESS1_extracted_clusters.mat')"
   ]
  },
  {
   "cell_type": "code",
   "execution_count": 40,
   "id": "bd744217-fd04-4a4e-b44b-d9c108388ce4",
   "metadata": {},
   "outputs": [
    {
     "data": {
      "text/plain": [
       "dict_keys(['__header__', '__version__', '__globals__', 'clusters'])"
      ]
     },
     "execution_count": 40,
     "metadata": {},
     "output_type": "execute_result"
    }
   ],
   "source": [
    "mat.keys()"
   ]
  },
  {
   "cell_type": "code",
   "execution_count": 53,
   "id": "cee9c979-a6b3-47a1-88d6-a2531d3d132f",
   "metadata": {},
   "outputs": [],
   "source": [
    "import torch"
   ]
  },
  {
   "cell_type": "code",
   "execution_count": 55,
   "id": "c969a692-4fec-4ec2-8d8f-2f1fcb8cc05b",
   "metadata": {},
   "outputs": [
    {
     "name": "stdout",
     "output_type": "stream",
     "text": [
      "tensor([[ 0.,  0.,  0.,  0.,  0.,  0.,  0.,  0.,  0.,  0.],\n",
      "        [ 0.,  0.,  0.,  0.,  0.,  0.,  0.,  0.,  0.,  0.],\n",
      "        [ 0.,  0., 10.,  0.,  0.,  0.,  0.,  0.,  0.,  0.],\n",
      "        [ 0.,  0.,  0.,  0.,  0.,  0.,  0.,  0.,  0.,  0.],\n",
      "        [ 0.,  0.,  0.,  0.,  0.,  0.,  0.,  0.,  0.,  0.],\n",
      "        [ 0.,  0.,  0.,  0.,  0.,  0.,  0.,  0.,  0.,  0.],\n",
      "        [ 0.,  0.,  0.,  0.,  0.,  0.,  0.,  0.,  0.,  0.],\n",
      "        [ 0.,  0.,  0.,  0.,  0.,  0.,  0.,  0.,  0.,  0.],\n",
      "        [ 0.,  0.,  0.,  0.,  0.,  0.,  0.,  0.,  0.,  0.],\n",
      "        [ 0.,  0.,  0.,  0.,  0.,  0.,  0.,  0.,  0.,  0.]]) tensor([[1., 1., 1., 1., 1., 1., 1., 1., 1., 1.],\n",
      "        [1., 1., 1., 1., 1., 1., 1., 1., 1., 1.],\n",
      "        [1., 1., 1., 1., 1., 1., 1., 1., 1., 1.],\n",
      "        [1., 1., 1., 1., 1., 1., 1., 1., 1., 1.],\n",
      "        [1., 1., 1., 1., 1., 1., 1., 1., 1., 1.],\n",
      "        [1., 1., 1., 1., 1., 1., 1., 1., 1., 1.],\n",
      "        [1., 1., 1., 1., 1., 1., 1., 1., 1., 1.],\n",
      "        [1., 1., 1., 1., 1., 1., 1., 1., 1., 1.],\n",
      "        [1., 1., 1., 1., 1., 1., 1., 1., 1., 1.],\n",
      "        [1., 1., 1., 1., 1., 1., 1., 1., 1., 1.]])\n"
     ]
    }
   ],
   "source": [
    "a = torch.zeros(10,10)\n",
    "a[2,2] = 10\n",
    "b = torch.ones(10,10)\n",
    "print(a,b)"
   ]
  },
  {
   "cell_type": "code",
   "execution_count": 57,
   "id": "44a6beb2-f408-4333-ac1d-5c7329c1773e",
   "metadata": {},
   "outputs": [
    {
     "data": {
      "text/plain": [
       "tensor([[0., 0., 0., 0., 0., 0., 0., 0., 0., 0.],\n",
       "        [0., 0., 0., 0., 0., 0., 0., 0., 0., 0.],\n",
       "        [0., 0., 1., 0., 0., 0., 0., 0., 0., 0.],\n",
       "        [0., 0., 0., 0., 0., 0., 0., 0., 0., 0.],\n",
       "        [0., 0., 0., 0., 0., 0., 0., 0., 0., 0.],\n",
       "        [0., 0., 0., 0., 0., 0., 0., 0., 0., 0.],\n",
       "        [0., 0., 0., 0., 0., 0., 0., 0., 0., 0.],\n",
       "        [0., 0., 0., 0., 0., 0., 0., 0., 0., 0.],\n",
       "        [0., 0., 0., 0., 0., 0., 0., 0., 0., 0.],\n",
       "        [0., 0., 0., 0., 0., 0., 0., 0., 0., 0.]])"
      ]
     },
     "execution_count": 57,
     "metadata": {},
     "output_type": "execute_result"
    }
   ],
   "source": [
    "torch.where(a==10,b,a)"
   ]
  },
  {
   "cell_type": "code",
   "execution_count": 41,
   "id": "54639c73-8784-4045-9673-c3ffc29242ee",
   "metadata": {},
   "outputs": [],
   "source": [
    "spike_ids, spike_times, id_conversions = mat['clusters']['spike_id'][0,0], mat['clusters']['spike_times'][0,0], mat['clusters']['id_conversion'][0,0]"
   ]
  },
  {
   "cell_type": "code",
   "execution_count": 42,
   "id": "a8ebead9-c960-4169-9182-855da86d245b",
   "metadata": {},
   "outputs": [
    {
     "data": {
      "text/plain": [
       "(24592,)"
      ]
     },
     "execution_count": 42,
     "metadata": {},
     "output_type": "execute_result"
    }
   ],
   "source": [
    "spike_times[spike_ids==1].shape"
   ]
  },
  {
   "cell_type": "code",
   "execution_count": 43,
   "id": "8b027d92-3fea-407b-b1b9-3c2ecfaee0c3",
   "metadata": {},
   "outputs": [
    {
     "data": {
      "text/plain": [
       "(np.float64(86201.48305466666), np.float64(105958.376721))"
      ]
     },
     "execution_count": 43,
     "metadata": {},
     "output_type": "execute_result"
    }
   ],
   "source": [
    "spike_times.min(), spike_times.max()"
   ]
  },
  {
   "cell_type": "code",
   "execution_count": 47,
   "id": "f03ba27d-11af-4f90-a9c2-8478e3e02e90",
   "metadata": {},
   "outputs": [
    {
     "data": {
      "text/plain": [
       "np.float64(5.488026018425925)"
      ]
     },
     "execution_count": 47,
     "metadata": {},
     "output_type": "execute_result"
    }
   ],
   "source": [
    "(spike_times.max()-spike_times.min())/60**2"
   ]
  },
  {
   "cell_type": "code",
   "execution_count": 48,
   "id": "cf89f383-d8ca-4615-8757-51f9d258591e",
   "metadata": {},
   "outputs": [],
   "source": [
    "avg_fr = []\n",
    "for neuron in np.unique(spike_ids):\n",
    "    spikes = spike_times[spike_ids==neuron]\n",
    "    avg_fr.append(len(spikes)/(spike_times.max()-spike_times.min()))"
   ]
  },
  {
   "cell_type": "code",
   "execution_count": 49,
   "id": "99f78e68-3d1f-492f-adb2-a15ac74fa62b",
   "metadata": {},
   "outputs": [],
   "source": [
    "isi = []\n",
    "for neuron in np.unique(spike_ids):\n",
    "    spikes = spike_times[spike_ids==neuron]\n",
    "    isi.append(np.diff(spikes))"
   ]
  },
  {
   "cell_type": "code",
   "execution_count": 50,
   "id": "2d5ce051-fb2a-49b9-936e-a6708ff97b88",
   "metadata": {},
   "outputs": [
    {
     "data": {
      "image/png": "[encoded data removed]",
      "text/plain": [
       "<Figure size 640x480 with 1 Axes>"
      ]
     },
     "metadata": {},
     "output_type": "display_data"
    }
   ],
   "source": [
    "plt.hist(isi[0])\n",
    "plt.yscale('log')"
   ]
  },
  {
   "cell_type": "code",
   "execution_count": 51,
   "id": "19ede028-1f03-46ee-9a25-d1b024ddc3b6",
   "metadata": {},
   "outputs": [
    {
     "data": {
      "text/plain": [
       "<BarContainer object of 167 artists>"
      ]
     },
     "execution_count": 51,
     "metadata": {},
     "output_type": "execute_result"
    },
    {
     "data": {
      "image/png": "[encoded data removed]",
      "text/plain": [
       "<Figure size 640x480 with 1 Axes>"
      ]
     },
     "metadata": {},
     "output_type": "display_data"
    }
   ],
   "source": [
    "plt.bar(np.unique(spike_ids),avg_fr)"
   ]
  },
  {
   "cell_type": "code",
   "execution_count": null,
   "id": "4014269c-5099-410f-a531-09ff7a2275ed",
   "metadata": {},
   "outputs": [],
   "source": []
  }
 ],
 "metadata": {
  "kernelspec": {
   "display_name": "Python 3 (ipykernel)",
   "language": "python",
   "name": "python3"
  },
  "language_info": {
   "codemirror_mode": {
    "name": "ipython",
    "version": 3
   },
   "file_extension": ".py",
   "mimetype": "text/x-python",
   "name": "python",
   "nbconvert_exporter": "python",
   "pygments_lexer": "ipython3",
   "version": "3.12.7"
  }
 },
 "nbformat": 4,
 "nbformat_minor": 5
}
